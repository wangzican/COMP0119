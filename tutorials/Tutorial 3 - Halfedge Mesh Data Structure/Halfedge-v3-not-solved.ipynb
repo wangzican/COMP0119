{
 "cells": [
  {
   "cell_type": "markdown",
   "id": "48a3c21c-74fe-4f3d-8012-b431492edf07",
   "metadata": {},
   "source": [
    "# The Half-edge Data Structure"
   ]
  },
  {
   "cell_type": "markdown",
   "id": "4e25e4e6-f35d-44c9-8780-50e63f75fca7",
   "metadata": {},
   "source": [
    "In a .obj or a .off file, the geometry is stored as a list of vertices followed a list of faces. Therefore the connectivity information is stored in the faces. A half-edge data structure is an alternative to face-based data structures, which uses more memory but enables more efficient mesh operations (such as finding the one-ring of a given vertex). The facets of a halfedge mesh do not have to be three-sided - quads or larger polygons are also allowed."
   ]
  },
  {
   "cell_type": "code",
   "execution_count": 3,
   "id": "85d015fe-918f-4bd7-ac6d-30dc08e1ee6f",
   "metadata": {},
   "outputs": [],
   "source": [
    "from halfedge_mesh.halfedge_mesh import * #import a very lightweight package for half-edge data structures"
   ]
  },
  {
   "cell_type": "markdown",
   "id": "2e2490ed-6d00-4e4f-b6b3-37f23e9f29b2",
   "metadata": {},
   "source": [
    "The following function constructs a halfedge data structure that represents a single triangle, according to this diagram. Notice how the directions of the half-edges inside the face follow a consistent order, and opposite half-edges have opposite directions.\n",
    "\n",
    "<div>\n",
    "<img src=\"Screenshot 2024-01-24 at 11.47.45.png\" width=\"300\"/>\n",
    "</div>\n"
   ]
  },
  {
   "cell_type": "markdown",
   "id": "0d7f49de-26bd-4a04-ac64-6be1c0839595",
   "metadata": {},
   "source": [
    "\n",
    "Read the following code to undertand the syntax for defining a halfedge mesh with this library."
   ]
  },
  {
   "cell_type": "code",
   "execution_count": 4,
   "id": "eb9b5f41-61d4-4eb3-8cae-3950cbcb8e98",
   "metadata": {},
   "outputs": [],
   "source": [
    "def create_halfedge_triangle():\n",
    "    ################### 1. Initialise ########################\n",
    "    \n",
    "    triangle = HalfedgeMesh() #Create a halfedge-mesh object called 'triangle'.\n",
    "    triangle.update_vertices([ [1,1,1], [1,0,0], [0,1,0] ]) #Create vertices.\n",
    "    triangle.facets = [ Facet(index = 0) ] #Create facets (faces, sort of).\n",
    "    triangle.halfedges = [ Halfedge(index = i) for i in range(6) ] #Create halfedges (two per edge).\n",
    "    \n",
    "    ################## 2. Update Halfedge Connectivity ################\n",
    "    \n",
    "    null_facet = Facet() #We use this to assign a facet to halfedges that are on the boundary.\n",
    "\n",
    "    triangle.halfedges[0].update(  vertex = triangle.vertices[0], next =  triangle.halfedges[1], \n",
    "                                       facet = triangle.facets[0], opposite = triangle.halfedges[3])\n",
    "\n",
    "    triangle.halfedges[1].update(   vertex = triangle.vertices[1], next =  triangle.halfedges[2], \n",
    "                                       facet = triangle.facets[0], opposite = triangle.halfedges[5])\n",
    "\n",
    "    triangle.halfedges[2].update(  vertex = triangle.vertices[2], next =  triangle.halfedges[0], \n",
    "                                       facet = triangle.facets[0], opposite = triangle.halfedges[4])\n",
    "\n",
    "    triangle.halfedges[3].update(  vertex = triangle.vertices[1], next =  triangle.halfedges[4], \n",
    "                                       facet = null_facet, opposite = triangle.halfedges[0])\n",
    "\n",
    "    triangle.halfedges[4].update(  vertex = triangle.vertices[0], next =  triangle.halfedges[5], \n",
    "                                       facet = null_facet, opposite = triangle.halfedges[2])\n",
    "\n",
    "    triangle.halfedges[5].update(  vertex = triangle.vertices[2], next =  triangle.halfedges[3], \n",
    "                                       facet = null_facet, opposite = triangle.halfedges[1])\n",
    "\n",
    "    ########## 3. Define Facet Connectivity ##############\n",
    "    \n",
    "    triangle.facets[0].update( halfedge = triangle.halfedges[0] ) #Assign one halfedge to every facet.\n",
    "\n",
    "    ########## 4. Define Vertex Connectivity ##############\n",
    "    \n",
    "    triangle.vertices[0].update ( halfedge = triangle.halfedges[0] ) #Assign one halfedge to every vertex.\n",
    "    triangle.vertices[1].update ( halfedge = triangle.halfedges[1] )\n",
    "    triangle.vertices[2].update ( halfedge = triangle.halfedges[2] )\n",
    "    \n",
    "    return triangle\n"
   ]
  },
  {
   "cell_type": "code",
   "execution_count": null,
   "id": "47ae8774-b237-4005-8529-4167194d11a1",
   "metadata": {},
   "outputs": [],
   "source": []
  },
  {
   "cell_type": "markdown",
   "id": "9e84bec8-e32a-4df5-a4c4-09586858365a",
   "metadata": {},
   "source": [
    "The library has a functions to convert half-edge meshes into .obj or .off file formats. Run this code, then open Meshlab and import the mesh into Meshlab to look at it."
   ]
  },
  {
   "cell_type": "code",
   "execution_count": 5,
   "id": "2a5d8bff-973d-48b7-93b1-bf7f3f926176",
   "metadata": {},
   "outputs": [],
   "source": [
    "triangle = create_halfedge_triangle()\n",
    "triangle.write_off('my_triangle.off') #This converts the halfedge triangle into a .off file. Open it in Meshlab."
   ]
  },
  {
   "cell_type": "markdown",
   "id": "d1d87a9c-15d1-4af7-aea7-2e8b18b82784",
   "metadata": {},
   "source": [
    "## Task 1: Construct a halfedge mesh for a tetrahedron."
   ]
  },
  {
   "cell_type": "markdown",
   "id": "5eb6bd61-122c-4167-93c0-383a5935da08",
   "metadata": {},
   "source": [
    " - First, draw a diagram on paper to plan out how you will define the vertices, halfedges and facets.\n",
    " - Then fill in the following function to generate a halfedge mesh for a tetrahedron.\n",
    "\n",
    "Hint: If you are confused about how a halfedge mesh works, have a look at this interactive webpage: https://jerryyin.info/geometry-processing-algorithms/half-edge/"
   ]
  },
  {
   "cell_type": "code",
   "execution_count": 11,
   "id": "4af5469a-e717-4965-938b-d7ab42d231c2",
   "metadata": {},
   "outputs": [],
   "source": [
    "def create_halfedge_tetrahedron():\n",
    "    ################### 1. Initialise ################################\n",
    "    \n",
    "    tetra = HalfedgeMesh() #Create a halfedge-mesh object called 'triangle'\n",
    "    tetra.update_vertices([ [1,0,-2**(-0.5)], [-1,0,-2**(-0.5)], [0,1,2**(-0.5)] , [0,-1,2**(-0.5)]]) #Create vertices\n",
    "    \n",
    "    \n",
    "    tetra.facets = [ Facet(index = i) for i in range(4) ] #Create facets (faces, sort of).\n",
    "    tetra.halfedges = [ Halfedge(index = i) for i in range(12) ] #Create halfedges (two per edge).\n",
    "    ################## 2. Define Halfedge Connectivity ################\n",
    "    \n",
    "    \n",
    "    null_facet = Facet() #We use this to assign a facet to halfedges that are on the boundary.\n",
    "\n",
    "    tetra.halfedges[0].update(  vertex = tetra.vertices[0], next =  tetra.halfedges[1], \n",
    "                                       facet = tetra.facets[0], opposite = tetra.halfedges[3])\n",
    "\n",
    "    tetra.halfedges[1].update(   vertex = tetra.vertices[1], next =  tetra.halfedges[2], \n",
    "                                       facet = tetra.facets[0], opposite = tetra.halfedges[10])\n",
    "\n",
    "    tetra.halfedges[2].update(  vertex = tetra.vertices[2], next =  tetra.halfedges[0], \n",
    "                                       facet = tetra.facets[0], opposite = tetra.halfedges[7])\n",
    "\n",
    "    tetra.halfedges[3].update(  vertex = tetra.vertices[1], next =  tetra.halfedges[4], \n",
    "                                       facet = tetra.facets[1], opposite = tetra.halfedges[0])\n",
    "\n",
    "    tetra.halfedges[4].update(  vertex = tetra.vertices[0], next =  tetra.halfedges[5], \n",
    "                                       facet = tetra.facets[1], opposite = tetra.halfedges[6])\n",
    "\n",
    "    tetra.halfedges[5].update(  vertex = tetra.vertices[3], next =  tetra.halfedges[3], \n",
    "                                       facet = tetra.facets[1], opposite = tetra.halfedges[11])\n",
    "\n",
    "    tetra.halfedges[6].update(  vertex = tetra.vertices[3], next =  tetra.halfedges[7], \n",
    "                                       facet = tetra.facets[2], opposite = tetra.halfedges[10])\n",
    "    \n",
    "    tetra.halfedges[7].update(  vertex = tetra.vertices[0], next =  tetra.halfedges[8], \n",
    "                                       facet = tetra.facets[2], opposite = tetra.halfedges[11])\n",
    "    \n",
    "    tetra.halfedges[8].update(  vertex = tetra.vertices[2], next =  tetra.halfedges[6], \n",
    "                                       facet = tetra.facets[2], opposite = tetra.halfedges[9])\n",
    "    \n",
    "    tetra.halfedges[9].update(  vertex = tetra.vertices[3], next =  tetra.halfedges[10], \n",
    "                                       facet = tetra.facets[3], opposite = tetra.halfedges[8])\n",
    "    \n",
    "    tetra.halfedges[10].update(  vertex = tetra.vertices[2], next =  tetra.halfedges[11], \n",
    "                                       facet = tetra.facets[3], opposite = tetra.halfedges[1])\n",
    "    \n",
    "    tetra.halfedges[11].update(  vertex = tetra.vertices[1], next =  tetra.halfedges[9], \n",
    "                                       facet = tetra.facets[3], opposite = tetra.halfedges[5])\n",
    "    \n",
    "    ########## 3. Define Facet Connectivity ##############\n",
    "    \n",
    "    tetra.facets[0].update( halfedge = tetra.halfedges[0] ) #Assign one halfedge to every facet.\n",
    "    tetra.facets[1].update( halfedge = tetra.halfedges[3] )\n",
    "    tetra.facets[2].update( halfedge = tetra.halfedges[6] )\n",
    "    tetra.facets[3].update( halfedge = tetra.halfedges[9] )\n",
    "\n",
    "    ########## 4. Define Vertex Connectivity ##############\n",
    "    \n",
    "    tetra.vertices[0].update ( halfedge = tetra.halfedges[0] ) #Assign one halfedge to every vertex.\n",
    "    tetra.vertices[1].update ( halfedge = tetra.halfedges[1] )\n",
    "    tetra.vertices[2].update ( halfedge = tetra.halfedges[2] )\n",
    "    tetra.vertices[3].update ( halfedge = tetra.halfedges[5] )\n",
    "    \n",
    "\n",
    "    return tetra"
   ]
  },
  {
   "cell_type": "markdown",
   "id": "d7e6e050-8707-4957-8520-2183f36188df",
   "metadata": {},
   "source": [
    " - Test your function below. Open the mesh file in Meshlab to check it. Does it look like a tetrahedron?"
   ]
  },
  {
   "cell_type": "code",
   "execution_count": 12,
   "id": "f6bd55ba-c592-4fb2-8390-482edecac849",
   "metadata": {},
   "outputs": [],
   "source": [
    "tetra = create_halfedge_tetrahedron()\n",
    "tetra.write_off('my_tetrahedron.off') "
   ]
  },
  {
   "cell_type": "markdown",
   "id": "f0b2b4c2-8bf4-4e05-829d-7e7efb0e3029",
   "metadata": {},
   "source": [
    "Note: If the mesh appears dark, it is 'inside out' - you can fix this by changing the order of the vertices, or you can use the method HalfedgeMesh.flip(), which multiplies the x-co-ordinate of every vertex by minus 1."
   ]
  },
  {
   "cell_type": "markdown",
   "id": "2b67389f-43ad-467b-a398-25e39586965e",
   "metadata": {},
   "source": [
    "## Task 2: find the vertices in the one-ring of a vertex"
   ]
  },
  {
   "cell_type": "markdown",
   "id": "7481c144-23f2-4a7b-91bc-3a2fd2f85027",
   "metadata": {},
   "source": [
    " - Given a halfedge mesh and a starting vertex index, this function should return the pointers to all the vertices in the onering, in order.\n",
    "This can be done very efficiently by exploiting the halfedge connectivity.\n",
    "\n",
    "Hint: It can be useful to print out indices of halfedges and vertices using e.g. print(current_halfedge.index).\n",
    "\n",
    "Hint: You can make chains of pointers to move around the graph, e.g. current_halfedge.opposite.opposite.next.vertex.halfedge.facet\n",
    "\n",
    "As always, drawing a diagram is useful."
   ]
  },
  {
   "cell_type": "code",
   "execution_count": 6,
   "id": "7f85832c-499b-417e-a44c-5b29cc034221",
   "metadata": {},
   "outputs": [],
   "source": [
    "def find_onering(origin_vertex):\n",
    "    \n",
    "        \n",
    "    return onering_vertices\n",
    "        "
   ]
  },
  {
   "cell_type": "markdown",
   "id": "19e09413-4295-4059-ad70-bbc522799259",
   "metadata": {},
   "source": [
    " - Test your code on the tetraheron and on the icosphere (download the icosphere mesh 'sphere4.off' from the github page).\n",
    "\n",
    " - For the tetrahedron, check your diagram. Are the onering vertices correct?\n",
    "\n",
    " - For the icosphere, is the number of onering vertices as you expect? (You will need to look at the mesh in Meshlab.)"
   ]
  },
  {
   "cell_type": "code",
   "execution_count": 7,
   "id": "bb72d8db-17d3-4329-ae12-a503c6460e5b",
   "metadata": {},
   "outputs": [
    {
     "name": "stdout",
     "output_type": "stream",
     "text": [
      "\n",
      "\n",
      "\n",
      "onering vertices of vertex  0 :  [1, 3, 2]\n"
     ]
    }
   ],
   "source": [
    "i=0\n",
    "onering = find_onering(tetra.vertices[i])#Are the onering vertices correct? Check all four vertices.\n",
    "print ('onering vertices of vertex ',i,': ', str([vertex.index for vertex in onering]))"
   ]
  },
  {
   "cell_type": "code",
   "execution_count": 8,
   "id": "ebae95a6-e94c-4ef7-b751-a94278a3b01d",
   "metadata": {},
   "outputs": [
    {
     "name": "stdout",
     "output_type": "stream",
     "text": [
      "\n",
      "\n",
      "\n",
      "\n",
      "\n",
      "\n",
      "onering vertices of vertex  100 :  [2078, 2079, 2310, 1720, 1721, 2317]\n"
     ]
    }
   ],
   "source": [
    "icosphere = HalfedgeMesh('sphere4.off') #Use the library to generate a halfedge mesh from a .off file.\n",
    "i=100\n",
    "onering = find_onering(icosphere.vertices[i])#Does the onering have the expected size? (look at the mesh in Meshlab).\n",
    "print ('onering vertices of vertex ',i,': ', str([vertex.index for vertex in onering]))"
   ]
  },
  {
   "cell_type": "markdown",
   "id": "12ddb712-e757-447e-a3cf-a0130db3c5c7",
   "metadata": {},
   "source": [
    "## Onering Test: Mesh Editing"
   ]
  },
  {
   "cell_type": "markdown",
   "id": "34788acc-72b9-4619-b256-39047d5fb164",
   "metadata": {},
   "source": [
    "If your onering function is correct, you can use it to make edits to meshes.\n",
    " - What do you expect this code to do? Open the mesh in meshlab to check.\n",
    " - If you have time, try adapting it to make different patterns. For example, you could try editing all of the vertices in the two-ring."
   ]
  },
  {
   "cell_type": "code",
   "execution_count": 9,
   "id": "00c595c6-f73a-44a1-b2cd-16c2a3108726",
   "metadata": {},
   "outputs": [
    {
     "name": "stdout",
     "output_type": "stream",
     "text": [
      "\n",
      "\n",
      "\n",
      "\n",
      "\n",
      "\n",
      "\n",
      "\n",
      "\n",
      "\n",
      "\n",
      "\n",
      "\n",
      "\n",
      "\n",
      "\n",
      "\n",
      "\n",
      "\n",
      "\n",
      "\n",
      "\n",
      "\n",
      "\n",
      "\n",
      "\n",
      "\n",
      "\n",
      "\n",
      "\n",
      "\n",
      "\n",
      "\n",
      "\n",
      "\n",
      "\n",
      "\n",
      "\n",
      "\n",
      "\n",
      "\n",
      "\n",
      "\n",
      "\n",
      "\n",
      "\n",
      "\n",
      "\n",
      "\n",
      "\n",
      "\n",
      "\n",
      "\n",
      "\n",
      "\n",
      "\n",
      "\n",
      "\n",
      "\n",
      "\n",
      "\n",
      "\n",
      "\n",
      "\n",
      "\n",
      "\n",
      "\n",
      "\n",
      "\n",
      "\n",
      "\n",
      "\n",
      "\n",
      "\n",
      "\n",
      "\n",
      "\n",
      "\n",
      "\n",
      "\n",
      "\n",
      "\n",
      "\n",
      "\n",
      "\n",
      "\n",
      "\n",
      "\n",
      "\n",
      "\n",
      "\n",
      "\n",
      "\n",
      "\n",
      "\n",
      "\n",
      "\n",
      "\n",
      "\n",
      "\n",
      "\n",
      "\n",
      "\n",
      "\n",
      "\n",
      "\n",
      "\n",
      "\n",
      "\n",
      "\n",
      "\n",
      "\n",
      "\n",
      "\n",
      "\n",
      "\n",
      "\n",
      "\n",
      "\n",
      "\n",
      "\n",
      "\n",
      "\n",
      "\n",
      "\n",
      "\n",
      "\n",
      "\n",
      "\n",
      "\n",
      "\n",
      "\n",
      "\n",
      "\n",
      "\n",
      "\n",
      "\n",
      "\n",
      "\n",
      "\n",
      "\n",
      "\n",
      "\n",
      "\n",
      "\n",
      "\n",
      "\n",
      "\n",
      "\n",
      "\n",
      "\n",
      "\n",
      "\n",
      "\n",
      "\n",
      "\n",
      "\n",
      "\n",
      "\n",
      "\n",
      "\n",
      "\n",
      "\n",
      "\n",
      "\n",
      "\n",
      "\n",
      "\n",
      "\n",
      "\n",
      "\n",
      "\n",
      "\n",
      "\n",
      "\n",
      "\n",
      "\n",
      "\n",
      "\n",
      "\n",
      "\n",
      "\n",
      "\n",
      "\n",
      "\n",
      "\n",
      "\n",
      "\n",
      "\n",
      "\n",
      "\n",
      "\n",
      "\n",
      "\n",
      "\n",
      "\n",
      "\n",
      "\n",
      "\n",
      "\n",
      "\n",
      "\n",
      "\n",
      "\n",
      "\n",
      "\n",
      "\n",
      "\n",
      "\n",
      "\n",
      "\n",
      "\n",
      "\n",
      "\n",
      "\n",
      "\n",
      "\n",
      "\n",
      "\n",
      "\n",
      "\n",
      "\n",
      "\n",
      "\n",
      "\n",
      "\n",
      "\n",
      "\n",
      "\n",
      "\n",
      "\n",
      "\n",
      "\n",
      "\n",
      "\n",
      "\n",
      "\n",
      "\n",
      "\n",
      "\n"
     ]
    }
   ],
   "source": [
    "n = 42 #Magic number. Other magic numbers that make nice patterns are n=102, n=162 or n=642.\n",
    "\n",
    "for i in range(n):\n",
    "    origin_vertex = icosphere.vertices[i]\n",
    "    onering = find_onering( origin_vertex )\n",
    "    for vertex in onering:\n",
    "        vertex.x = 1.02* vertex.x \n",
    "        vertex.y = 1.02* vertex.y \n",
    "        vertex.z = 1.02* vertex.z\n",
    "    origin_vertex.x = 1.1* origin_vertex.x \n",
    "    origin_vertex.y = 1.1* origin_vertex.y \n",
    "    origin_vertex.z = 1.1* origin_vertex.z\n",
    "\n",
    "icosphere.write_obj('edited_icosphere.obj')"
   ]
  },
  {
   "cell_type": "code",
   "execution_count": null,
   "id": "fdc2bf98-5233-47c2-a01c-10894984239d",
   "metadata": {},
   "outputs": [],
   "source": []
  },
  {
   "cell_type": "code",
   "execution_count": null,
   "id": "c0f37fac-d4a9-4bf9-8dda-b839b43eb725",
   "metadata": {},
   "outputs": [],
   "source": [
    "\n",
    "    "
   ]
  },
  {
   "cell_type": "markdown",
   "id": "ceffb859-0a07-4fde-94f4-9bae8ca41bb8",
   "metadata": {},
   "source": [
    "## Extra Stuff"
   ]
  },
  {
   "cell_type": "markdown",
   "id": "1bd5f8a1-ceb0-477c-b631-0dfaadcfb0da",
   "metadata": {},
   "source": [
    "### Algorithm to Generate Halfedge Mesh from Vertices and Faces"
   ]
  },
  {
   "cell_type": "markdown",
   "id": "9c7ff27f-ec38-4f6f-9380-0c1bf2891dea",
   "metadata": {},
   "source": []
  },
  {
   "cell_type": "markdown",
   "id": "3cc21c18-a2ec-4ed6-acd3-efeadec9c115",
   "metadata": {},
   "source": [
    "This is the pseudocode for how we efficiently generate a halfedge mesh from a .off file. Link:\n",
    "        http://stackoverflow.com/questions/15365471/initializing-half-edge-\n",
    "        data-structure-from-vertices\n",
    "\n",
    "        map< pair<unsigned int, unsigned int>, HalfEdge* > Edges;\n",
    "\n",
    "        for each face F\n",
    "        {\n",
    "            for each edge (u,v) of F\n",
    "            {\n",
    "                Edges[ pair(u,v) ] = new HalfEdge();\n",
    "                Edges[ pair(u,v) ]->face = F;\n",
    "            }\n",
    "            for each edge (u,v) of F\n",
    "            {\n",
    "                set Edges[ pair(u,v) ]->nextHalfEdge to next half-edge in F\n",
    "                if ( Edges.find( pair(v,u) ) != Edges.end() )\n",
    "                {\n",
    "                    Edges[ pair(u,v) ]->oppositeHalfEdge = Edges[ pair(v,u) ];\n",
    "                    Edges[ pair(v,u) ]->oppositeHalfEdge = Edges[ pair(u,v) ];\n",
    "            }\n",
    "        }\n"
   ]
  },
  {
   "cell_type": "markdown",
   "id": "c4945745-f350-4132-a43c-52d822197147",
   "metadata": {},
   "source": []
  }
 ],
 "metadata": {
  "kernelspec": {
   "display_name": "Python 3 (ipykernel)",
   "language": "python",
   "name": "python3"
  },
  "language_info": {
   "codemirror_mode": {
    "name": "ipython",
    "version": 3
   },
   "file_extension": ".py",
   "mimetype": "text/x-python",
   "name": "python",
   "nbconvert_exporter": "python",
   "pygments_lexer": "ipython3",
   "version": "3.9.18"
  }
 },
 "nbformat": 4,
 "nbformat_minor": 5
}
