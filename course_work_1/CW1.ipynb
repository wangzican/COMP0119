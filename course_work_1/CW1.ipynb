{
 "cells": [
  {
   "cell_type": "code",
   "execution_count": 13,
   "metadata": {},
   "outputs": [],
   "source": [
    "from halfedge_mesh.halfedge_mesh import *\n",
    "import numpy as np\n",
    "from matplotlib import pyplot as plt"
   ]
  },
  {
   "cell_type": "markdown",
   "metadata": {},
   "source": [
    "## Half edge map"
   ]
  },
  {
   "cell_type": "markdown",
   "metadata": {},
   "source": [
    "### cube"
   ]
  },
  {
   "cell_type": "code",
   "execution_count": 14,
   "metadata": {},
   "outputs": [],
   "source": [
    "def create_halfedge_cube():\n",
    "    ################### 1. Initialise ################################\n",
    "\n",
    "    cube = HalfedgeMesh() #Create a halfedge-mesh object called 'triangle'\n",
    "    cube.update_vertices([ [0, 0, 0], [-1, 0, 0], [-1, 1, 0] , [0, 1, 0], [0, 1, 1], [0, 0, 1], [-1, 0, 1], [-1, 1, 1]]) #Create vertices\n",
    "    \n",
    "    \n",
    "    cube.facets = [ Facet(index = i) for i in range(6) ] #Create facets (faces, sort of).\n",
    "    cube.halfedges = [ Halfedge(index = i) for i in range(24) ] #Create halfedges (two per edge).\n",
    "\n",
    "    ################## 2. Define Halfedge Connectivity ################\n",
    "    \n",
    "    null_facet = Facet() #We use this to assign a facet to halfedges that are on the boundary.\n",
    "\n",
    "    cube.halfedges[0].update(  vertex = cube.vertices[0], next =  cube.halfedges[1], \n",
    "                                       facet = cube.facets[0], opposite = cube.halfedges[4])\n",
    "\n",
    "    cube.halfedges[1].update(   vertex = cube.vertices[1], next =  cube.halfedges[2], \n",
    "                                       facet = cube.facets[0], opposite = cube.halfedges[5])\n",
    "\n",
    "    cube.halfedges[2].update(  vertex = cube.vertices[2], next =  cube.halfedges[3], \n",
    "                                       facet = cube.facets[0], opposite = cube.halfedges[6])\n",
    "\n",
    "    cube.halfedges[3].update(  vertex = cube.vertices[3], next =  cube.halfedges[0], \n",
    "                                       facet = cube.facets[0], opposite = cube.halfedges[7])\n",
    "\n",
    "    cube.halfedges[4].update(  vertex = cube.vertices[1], next =  cube.halfedges[8], \n",
    "                                       facet = cube.facets[1], opposite = cube.halfedges[0])\n",
    "\n",
    "    cube.halfedges[5].update(  vertex = cube.vertices[2], next =  cube.halfedges[13], \n",
    "                                       facet = cube.facets[2], opposite = cube.halfedges[1])\n",
    "\n",
    "    cube.halfedges[6].update(  vertex = cube.vertices[3], next =  cube.halfedges[17], \n",
    "                                       facet = cube.facets[3], opposite = cube.halfedges[2])\n",
    "    \n",
    "    cube.halfedges[7].update(  vertex = cube.vertices[0], next =  cube.halfedges[21], \n",
    "                                       facet = cube.facets[4], opposite = cube.halfedges[3])\n",
    "    \n",
    "    cube.halfedges[8].update(  vertex = cube.vertices[0], next =  cube.halfedges[9], \n",
    "                                       facet = cube.facets[1], opposite = cube.halfedges[11])\n",
    "    \n",
    "    cube.halfedges[9].update(  vertex = cube.vertices[5], next =  cube.halfedges[10], \n",
    "                                       facet = cube.facets[1], opposite = cube.halfedges[12])\n",
    "    \n",
    "    cube.halfedges[10].update(  vertex = cube.vertices[6], next =  cube.halfedges[4], \n",
    "                                       facet = cube.facets[1], opposite = cube.halfedges[13])\n",
    "    \n",
    "    cube.halfedges[11].update(  vertex = cube.vertices[5], next =  cube.halfedges[7], \n",
    "                                       facet = cube.facets[4], opposite = cube.halfedges[8])\n",
    "    \n",
    "    cube.halfedges[12].update(  vertex = cube.vertices[6], next =  cube.halfedges[23], \n",
    "                                       facet = cube.facets[5], opposite = cube.halfedges[9])\n",
    "    \n",
    "    cube.halfedges[13].update(  vertex = cube.vertices[1], next =  cube.halfedges[14], \n",
    "                                       facet = cube.facets[2], opposite = cube.halfedges[10])\n",
    "    \n",
    "    cube.halfedges[14].update(  vertex = cube.vertices[6], next =  cube.halfedges[15], \n",
    "                                       facet = cube.facets[2], opposite = cube.halfedges[16])\n",
    "    \n",
    "    cube.halfedges[15].update(  vertex = cube.vertices[7], next =  cube.halfedges[5], \n",
    "                                       facet = cube.facets[2], opposite = cube.halfedges[17])\n",
    "    \n",
    "    cube.halfedges[16].update(  vertex = cube.vertices[7], next =  cube.halfedges[12], \n",
    "                                       facet = cube.facets[5], opposite = cube.halfedges[14])\n",
    "    \n",
    "    cube.halfedges[17].update(  vertex = cube.vertices[2], next =  cube.halfedges[18], \n",
    "                                       facet = cube.facets[3], opposite = cube.halfedges[15])\n",
    "    \n",
    "    cube.halfedges[18].update(  vertex = cube.vertices[7], next =  cube.halfedges[19], \n",
    "                                       facet = cube.facets[3], opposite = cube.halfedges[20])\n",
    "    \n",
    "    cube.halfedges[19].update(  vertex = cube.vertices[4], next =  cube.halfedges[6], \n",
    "                                       facet = cube.facets[3], opposite = cube.halfedges[21])\n",
    "    \n",
    "    cube.halfedges[20].update(  vertex = cube.vertices[4], next =  cube.halfedges[16], \n",
    "                                       facet = cube.facets[5], opposite = cube.halfedges[18])\n",
    "    \n",
    "    cube.halfedges[21].update(  vertex = cube.vertices[3], next =  cube.halfedges[22], \n",
    "                                       facet = cube.facets[4], opposite = cube.halfedges[19])\n",
    "                                       \n",
    "    cube.halfedges[22].update(  vertex = cube.vertices[4], next =  cube.halfedges[11], \n",
    "                                       facet = cube.facets[4], opposite = cube.halfedges[23])\n",
    "                                       \n",
    "    cube.halfedges[23].update(  vertex = cube.vertices[5], next =  cube.halfedges[20], \n",
    "                                       facet = cube.facets[5], opposite = cube.halfedges[22])\n",
    "    \n",
    "    ########## 3. Define Facet Connectivity ##############\n",
    "    \n",
    "    cube.facets[0].update( halfedge = cube.halfedges[0] ) #Assign one halfedge to every facet.\n",
    "    cube.facets[1].update( halfedge = cube.halfedges[4] )\n",
    "    cube.facets[2].update( halfedge = cube.halfedges[5] )\n",
    "    cube.facets[3].update( halfedge = cube.halfedges[6] )\n",
    "    cube.facets[4].update( halfedge = cube.halfedges[7] )\n",
    "    cube.facets[5].update( halfedge = cube.halfedges[12] )\n",
    "\n",
    "    ########## 4. Define Vertex Connectivity ##############\n",
    "    \n",
    "    cube.vertices[0].update( halfedge = cube.halfedges[0] ) #Assign one halfedge to every vertex.\n",
    "    cube.vertices[1].update( halfedge = cube.halfedges[1] )\n",
    "    cube.vertices[2].update( halfedge = cube.halfedges[2] )\n",
    "    cube.vertices[3].update( halfedge = cube.halfedges[3] )\n",
    "    cube.vertices[4].update( halfedge = cube.halfedges[22] )\n",
    "    cube.vertices[5].update( halfedge = cube.halfedges[9] )\n",
    "    cube.vertices[6].update( halfedge = cube.halfedges[14] )\n",
    "    cube.vertices[7].update( halfedge = cube.halfedges[18] )\n",
    "    \n",
    "\n",
    "    return cube"
   ]
  },
  {
   "cell_type": "code",
   "execution_count": 15,
   "metadata": {},
   "outputs": [],
   "source": [
    "cube = create_halfedge_cube()\n",
    "cube.write_off('./generated_meshes/my_cube.off') "
   ]
  },
  {
   "cell_type": "markdown",
   "metadata": {},
   "source": [
    "### centroid"
   ]
  },
  {
   "cell_type": "code",
   "execution_count": 16,
   "metadata": {},
   "outputs": [],
   "source": [
    "def get_centroid(facet_pointer):\n",
    "    # get the center coordinate from a facet pointer\n",
    "    halfedge_pointer = facet_pointer.halfedge\n",
    "    initial_index = halfedge_pointer.index\n",
    "    cur_index = initial_index-1 # just to make them different\n",
    "    total_pos = 0\n",
    "    vertices = 0\n",
    "    while cur_index != initial_index:\n",
    "        vertices += 1\n",
    "        point = halfedge_pointer.vertex\n",
    "        pos = np.array([point.x, point.y, point.z])\n",
    "        total_pos += pos\n",
    "        halfedge_pointer = halfedge_pointer.next\n",
    "        cur_index = halfedge_pointer.index\n",
    "    coord = total_pos/vertices\n",
    "    return list(coord)"
   ]
  },
  {
   "cell_type": "markdown",
   "metadata": {},
   "source": [
    "### dual graph"
   ]
  },
  {
   "cell_type": "code",
   "execution_count": 17,
   "metadata": {},
   "outputs": [],
   "source": [
    "def get_dual_mesh(original_mesh):\n",
    "    ################### 1. Initialise ################################\n",
    "    polyhedron = HalfedgeMesh()\n",
    "    vertices = []\n",
    "    for i in range(len(original_mesh.facets)):\n",
    "        vertices.append(get_centroid(original_mesh.facets[i]))\n",
    "    # print(vertices)\n",
    "    polyhedron.update_vertices(vertices) #Create vertices\n",
    "    polyhedron.facets = [ Facet(index = i) for i in range(len(original_mesh.vertices)) ] \n",
    "    # polyhedron.halfedges = [ Halfedge(index = i) for i in range(len(original_mesh.halfedges)) ]\n",
    "    \n",
    "    ########## 2. Define Connectivity ##############\n",
    "\n",
    "    Edges = {}\n",
    "    # for each face\n",
    "    for index in range(len(polyhedron.facets)):\n",
    "        # for each edge of the face\n",
    "        # face is vertex in original, get edge by faces from half edges with same vertex\n",
    "        all_facet_edges = []\n",
    "        for x in original_mesh.halfedges:\n",
    "            if x.vertex.index == index:\n",
    "                all_facet_edges.append((x.facet.index, x.opposite.facet.index))\n",
    "        n = len(all_facet_edges)\n",
    "\n",
    "        polyhedron.facets[index]\n",
    "        # for each edge\n",
    "        for i in range(n):\n",
    "            Edges[all_facet_edges[i]] = Halfedge()\n",
    "            Edges[all_facet_edges[i]].facet = polyhedron.facets[index]\n",
    "            Edges[all_facet_edges[i]].vertex = polyhedron.vertices[all_facet_edges[i][0]]\n",
    "            polyhedron.vertices[all_facet_edges[i][0]].halfedge = Edges[all_facet_edges[i]]\n",
    "        polyhedron.facets[index].halfedge = Edges[all_facet_edges[0]]\n",
    "        for i in range(n):\n",
    "            Edges[all_facet_edges[i]].next = Edges[\n",
    "                all_facet_edges[(i + 1) % n]]\n",
    "            Edges[all_facet_edges[i]].prev = Edges[\n",
    "                all_facet_edges[(i - 1) % n]]\n",
    "\n",
    "            # reverse edge ordering of vertex, e.g. (1,2)->(2,1)\n",
    "            if all_facet_edges[i][2::-1] in Edges:\n",
    "                Edges[all_facet_edges[i]].opposite = \\\n",
    "                    Edges[all_facet_edges[i][2::-1]]\n",
    "\n",
    "                Edges[all_facet_edges[i][2::-1]].opposite = \\\n",
    "                    Edges[all_facet_edges[i]]\n",
    "                \n",
    "    i = 0\n",
    "    for key, value in Edges.items():\n",
    "        value.index = i\n",
    "        polyhedron.halfedges.append(value)\n",
    "        i += 1\n",
    "\n",
    "    return polyhedron\n",
    "    "
   ]
  },
  {
   "cell_type": "code",
   "execution_count": 18,
   "metadata": {},
   "outputs": [],
   "source": [
    "cube_dual = get_dual_mesh(cube)\n",
    "cube_dual.write_off('./generated_meshes/my_cube_dual.off') \n",
    "cube_dual_dual = get_dual_mesh(cube_dual)\n",
    "cube_dual_dual.write_off('./generated_meshes/my_cube_dual_dual.off')"
   ]
  },
  {
   "cell_type": "markdown",
   "metadata": {},
   "source": [
    "## Core section"
   ]
  },
  {
   "cell_type": "code",
   "execution_count": 19,
   "metadata": {},
   "outputs": [],
   "source": [
    "from sklearn.neighbors import KDTree\n",
    "import igl\n",
    "v1, f1 = igl.read_triangle_mesh(\"bunny_v2/bun000_v2.ply\")\n",
    "v2, f2 = igl.read_triangle_mesh(\"bunny_v2/bun045_v2.ply\")"
   ]
  },
  {
   "cell_type": "code",
   "execution_count": 73,
   "metadata": {},
   "outputs": [],
   "source": [
    "def curvature(surface_points, k=5):\n",
    "    num_points, _ = surface_points.shape\n",
    "    tree = KDTree(surface_points)\n",
    "    _, indices = tree.query(surface_points, k)\n",
    "    curvatures = np.zeros(num_points)\n",
    "    for point in range(num_points):\n",
    "        neighbours = surface_points[indices[point],:]\n",
    "        mean = np.mean(neighbours,axis=0)\n",
    "        neighbours_adjust = neighbours - mean\n",
    "        covariance_matrix = np.cov(neighbours_adjust.T)\n",
    "        eigenvalues, eigenvectors = np.linalg.eig(covariance_matrix)\n",
    "        sorted_values = np.argsort(-eigenvalues)\n",
    "        eigenvalues = eigenvalues[sorted_values]\n",
    "        curvature = abs(eigenvalues[2]) / (abs(eigenvalues[0])+abs(eigenvalues[1])+abs(eigenvalues[2]))\n",
    "        curvatures[point] = curvature\n",
    "    \n",
    "    return curvatures\n",
    "\n",
    "def uniform_sample(v1, ratio):\n",
    "    '''\n",
    "    Sample the points in v1 uniformly and output given ratio\n",
    "    v1: nx3\n",
    "    '''\n",
    "    n_points = v1.shape[0]\n",
    "    out_n = int(n_points * ratio)\n",
    "    idx = np.arange(n_points)\n",
    "    out_idx = np.random.choice(idx, out_n, replace=False)\n",
    "    return out_idx\n",
    "\n",
    "# Match each pi to closest point qi on other scan \n",
    "# rejects the pairs above threshold\n",
    "def find_closest_match(v1, v2):\n",
    "    '''\n",
    "    v1, v2: points sampled from two meshes\n",
    "    returns closest points index to v1 from v2\n",
    "    distance of the closest points\n",
    "    '''\n",
    "    n_pts = v1.shape[0]\n",
    "    tree = KDTree(v2)\n",
    "    dist, idx = tree.query(v1, return_distance=True)\n",
    "\n",
    "    return dist.reshape((n_pts,)), idx\n",
    "\n",
    "# distance and normals\n",
    "def reject_pairs(v1, v2, index, dist, curv1, curv2, use_dist=False, thres=1e-7):\n",
    "    '''\n",
    "    v1 should be unchanged\n",
    "    v2 should be using index from closest match\n",
    "    '''\n",
    "    idx1 = dist <= 2*np.median(dist)\n",
    "    # p, q = v1[idx], v2[index[:,0],:][idx]\n",
    "    # print(curv1.shape, curv2.shape, index.shape, index[:5])\n",
    "    idx = curv1.reshape((-1,1))-curv2[index] < thres\n",
    "    idx = idx[:,0]\n",
    "    # print(idx.shape, idx1.shape)\n",
    "    # make sure at least have one pair remaining\n",
    "    p, q = v1[idx,:], v2[index[:,0],:][idx,:]\n",
    "    # print(p.shape, q.shape)\n",
    "    if use_dist == False:\n",
    "        return p, q\n",
    "    idx = idx & idx1\n",
    "    p, q = v1[idx,:], v2[index[:,0],:][idx,:]\n",
    "    return p, q"
   ]
  },
  {
   "cell_type": "code",
   "execution_count": 21,
   "metadata": {},
   "outputs": [],
   "source": [
    "# translation and rotation matching\n",
    "def shape_matching(p, q):\n",
    "    '''\n",
    "    for nx3 points\n",
    "    '''\n",
    "    # print(p.shape, q.shape)\n",
    "    p_avg = np.mean(p, axis=0)\n",
    "    q_avg = np.mean(q, axis=0)\n",
    "    P = (p - p_avg).T\n",
    "    Q = (q - q_avg).T\n",
    "    U, S, Vh = np.linalg.svd(Q @ P.T)\n",
    "    # for det = -1\n",
    "    eye = np.eye(3)\n",
    "    eye[2, 2] = np.linalg.det(Vh.T @ U.T)\n",
    "    R = Vh.T @ eye @ U.T\n",
    "    t = p_avg - R @ q_avg\n",
    "    return R, t"
   ]
  },
  {
   "cell_type": "code",
   "execution_count": 79,
   "metadata": {},
   "outputs": [],
   "source": [
    "def icp(v2, v1, curv2, curv1, max_iter=500, stop_thres=0.001, sample=0, use_dist=False, reject_thres = 1e-7):\n",
    "    '''\n",
    "    fit R and t to transform v2 to v1\n",
    "    sample: ratio\n",
    "    returns:\n",
    "        transformed v2\n",
    "        total error in remaining pairs for each iteration\n",
    "    '''\n",
    "    \n",
    "    if sample > 0 and sample < 1:\n",
    "        v1_idx = uniform_sample(v1, sample) # in section 3\n",
    "        v1 = v1[v1_idx,:]\n",
    "        curv1 = curv1[v1_idx]\n",
    "    iter = 0\n",
    "    error = []\n",
    "    while iter < max_iter:\n",
    "        dist, idx = find_closest_match(v1,v2)\n",
    "        p, q = reject_pairs(v1, v2, idx, dist, curv1, curv2, use_dist=use_dist, thres=reject_thres)\n",
    "        R, t = shape_matching(p, q)\n",
    "        \n",
    "        iter += 1\n",
    "        # iterate after scan alignment\n",
    "        # print(R.shape, v2.shape, t.shape)\n",
    "        v2 = (R@v2.T+t.reshape((-1, 1))).T\n",
    "\n",
    "        error.append(np.mean((p-q)**2))\n",
    "        if np.linalg.norm(np.eye(3) - R) < stop_thres:\n",
    "            # print(iter)\n",
    "            break\n",
    "\n",
    "    return v2, error"
   ]
  },
  {
   "cell_type": "code",
   "execution_count": 23,
   "metadata": {},
   "outputs": [],
   "source": [
    "def get_color(v1, v2, radius=0.001):\n",
    "    '''\n",
    "    color overlapping areas within a radius\n",
    "    '''\n",
    "    overlap_color = np.array([1, 0, 0])\n",
    "    colors = np.zeros((v1.shape[0], 3), order='F')\n",
    "    tree = KDTree(v2, leaf_size=10) \n",
    "\n",
    "    has_neighbours1 = tree.query_radius(v1, r=radius, count_only=True)\n",
    "    colors[has_neighbours1!=0] = overlap_color\n",
    "\n",
    "    return colors"
   ]
  },
  {
   "cell_type": "code",
   "execution_count": 24,
   "metadata": {},
   "outputs": [
    {
     "data": {
      "text/plain": [
       "True"
      ]
     },
     "execution_count": 24,
     "metadata": {},
     "output_type": "execute_result"
    }
   ],
   "source": [
    "curv1 = curvature(v1)\n",
    "curv2 = curvature(v2)\n",
    "new_v2, error = icp(v2, v1, curv2, curv1)\n",
    "# overlap_color = get_color(v1, new_v2)\n",
    "\n",
    "# igl.write_off(\"./generated_meshes/bun045_new_1_colored.off\", new_v2, f2, overlap_color)\n",
    "igl.write_triangle_mesh(\"./generated_meshes/bun045_new_1.ply\", new_v2, f2)"
   ]
  },
  {
   "cell_type": "code",
   "execution_count": 25,
   "metadata": {},
   "outputs": [
    {
     "data": {
      "image/png": "[encoded data removed]",
      "text/plain": [
       "<Figure size 640x480 with 1 Axes>"
      ]
     },
     "metadata": {},
     "output_type": "display_data"
    }
   ],
   "source": [
    "plt.plot(error)\n",
    "plt.title(\"error\")\n",
    "plt.show()"
   ]
  },
  {
   "cell_type": "markdown",
   "metadata": {},
   "source": [
    "### 2. Misalignment convergence"
   ]
  },
  {
   "cell_type": "markdown",
   "metadata": {},
   "source": [
    "#### a) angle"
   ]
  },
  {
   "cell_type": "code",
   "execution_count": 94,
   "metadata": {},
   "outputs": [],
   "source": [
    "def perturb_angle(v1, angle):\n",
    "    '''\n",
    "    Assuming centroid of v1 is at the origin, so no need to subtract centroid.\n",
    "    rotating v1 around z axis\n",
    "    '''\n",
    "    R = np.array([[np.cos(angle), -np.sin(angle), 0.],\n",
    "                  [np.sin(angle),  np.cos(angle), 0.],\n",
    "                  [           0.,             0., 1.]])\n",
    "    v1_rot = (R@v1.T).T\n",
    "    return v1_rot"
   ]
  },
  {
   "cell_type": "code",
   "execution_count": 95,
   "metadata": {},
   "outputs": [
    {
     "name": "stdout",
     "output_type": "stream",
     "text": [
      "5.0\n",
      "10.0\n",
      "15.0\n",
      "20.0\n",
      "25.0\n",
      "30.0\n",
      "35.0\n",
      "40.0\n",
      "45.0\n",
      "50.0\n",
      "55.00000000000001\n",
      "60.0\n",
      "64.99999999999999\n",
      "70.0\n",
      "75.0\n",
      "80.0\n",
      "85.0\n",
      "89.99999999999999\n",
      "95.0\n",
      "99.99999999999999\n",
      "104.99999999999999\n",
      "109.99999999999999\n",
      "114.99999999999999\n",
      "120.0\n",
      "125.0\n",
      "129.99999999999997\n",
      "135.0\n",
      "140.0\n",
      "144.99999999999997\n",
      "150.0\n",
      "155.0\n",
      "160.0\n",
      "165.0\n",
      "170.0\n",
      "174.99999999999997\n",
      "180.0\n"
     ]
    },
    {
     "data": {
      "image/png": "[encoded data removed]",
      "text/plain": [
       "<Figure size 640x480 with 1 Axes>"
      ]
     },
     "metadata": {},
     "output_type": "display_data"
    }
   ],
   "source": [
    "angles = np.linspace(5*np.pi/180, np.pi, 36) # 72 for 5 degree increment\n",
    "convergence_error = []\n",
    "for i in range(len(angles)):\n",
    "    print(angles[i]/np.pi*180)\n",
    "    v1_rot = perturb_angle(v1, angles[i]) \n",
    "    _, errors = icp(v1_rot, v1, curv1, curv1) #same curvature\n",
    "    convergence_error.append(errors[-1])\n",
    "\n",
    "plt.plot(angles/np.pi*180, convergence_error)\n",
    "plt.show()\n",
    "\n",
    "    "
   ]
  },
  {
   "cell_type": "markdown",
   "metadata": {},
   "source": [
    "#### b) noise"
   ]
  },
  {
   "cell_type": "code",
   "execution_count": 27,
   "metadata": {},
   "outputs": [],
   "source": [
    "def perturb_noise(v1, sigma):\n",
    "    '''\n",
    "    additive gaussian noise for each vertex\n",
    "    sigma: sigma for [x, y, z]\n",
    "    '''\n",
    "    noise = np.random.normal(0, sigma, v1.shape)\n",
    "    return v1+noise"
   ]
  },
  {
   "cell_type": "code",
   "execution_count": 29,
   "metadata": {},
   "outputs": [
    {
     "name": "stdout",
     "output_type": "stream",
     "text": [
      "0.001\n",
      "0.003\n",
      "0.005\n",
      "0.007\n",
      "0.009\n",
      "0.01\n",
      "0.03\n",
      "0.05\n",
      "0.07\n",
      "0.09\n",
      "0.1\n"
     ]
    },
    {
     "data": {
      "image/png": "[encoded data removed]",
      "text/plain": [
       "<Figure size 640x480 with 1 Axes>"
      ]
     },
     "metadata": {},
     "output_type": "display_data"
    }
   ],
   "source": [
    "noise_ratio = [1e-3, 3e-3, 5e-3, 7e-3, 9e-3, 1e-2, 3e-2, 5e-2, 7e-2, 9e-2, 1e-1]\n",
    "bbv1 = np.max(v1, axis=0) - np.min(v1, axis=0)\n",
    "sigmas = (bbv1.reshape((3,1)) * noise_ratio).T\n",
    "\n",
    "convergence_error = []\n",
    "for i in range(len(noise_ratio)):\n",
    "    print(noise_ratio[i])\n",
    "    v1_noise = perturb_noise(v1, sigmas[i]) \n",
    "    curv1_noise = curvature(v1_noise)\n",
    "    _, errors = icp(v1_noise, v1, curv1_noise, curv1)\n",
    "    convergence_error.append(errors[-1])\n",
    "\n",
    "plt.plot(noise_ratio, convergence_error)\n",
    "plt.show()"
   ]
  },
  {
   "cell_type": "markdown",
   "metadata": {},
   "source": [
    "### Sampling:"
   ]
  },
  {
   "cell_type": "code",
   "execution_count": 30,
   "metadata": {},
   "outputs": [],
   "source": [
    "def uniform_sample(v1, ratio):\n",
    "    '''\n",
    "    Sample the points in v1 uniformly and output given ratio\n",
    "    v1: nx3\n",
    "    '''\n",
    "    n_points = v1.shape[0]\n",
    "    out_n = int(n_points * ratio)\n",
    "    idx = np.arange(n_points)\n",
    "    out_idx = np.random.choice(idx, out_n, replace=False)\n",
    "    return out_idx"
   ]
  },
  {
   "cell_type": "code",
   "execution_count": 36,
   "metadata": {},
   "outputs": [
    {
     "name": "stdout",
     "output_type": "stream",
     "text": [
      "ratio:  0.01\n",
      "ratio:  0.016681005372000592\n",
      "ratio:  0.027825594022071243\n",
      "ratio:  0.046415888336127774\n",
      "ratio:  0.0774263682681127\n",
      "ratio:  0.1291549665014884\n",
      "ratio:  0.21544346900318834\n",
      "ratio:  0.3593813663804626\n",
      "ratio:  0.5994842503189409\n",
      "ratio:  1.0\n"
     ]
    },
    {
     "data": {
      "image/png": "[encoded data removed]",
      "text/plain": [
       "<Figure size 640x480 with 1 Axes>"
      ]
     },
     "metadata": {},
     "output_type": "display_data"
    }
   ],
   "source": [
    "sample_ratios = np.linspace(-2, 0, 10)\n",
    "sample_ratios = 10**sample_ratios\n",
    "convergence_error = []\n",
    "for i in range(len(sample_ratios)):\n",
    "    print(\"ratio: \", sample_ratios[i])\n",
    "    errors = []\n",
    "    for j in range(int(0.5//sample_ratios[i])+1):\n",
    "        # less samples have less stability\n",
    "        # internal error calculation only works with 100% sampling\n",
    "        new_v2, _ = icp(v2, v1, curv2, curv1, sample=sample_ratios[i])\n",
    "        \n",
    "        dist, index = find_closest_match(v1, new_v2)\n",
    "        idx = dist <= 2*np.median(dist)\n",
    "        p, q = v1[idx,:], new_v2[index[:,0],:][idx,:]\n",
    "        errors.append(np.mean((p-q)**2))\n",
    "        \n",
    "    error = np.mean(errors)\n",
    "    convergence_error.append(error)\n",
    "\n",
    "plt.plot(sample_ratios, convergence_error)\n",
    "plt.show()\n"
   ]
  },
  {
   "cell_type": "markdown",
   "metadata": {},
   "source": [
    "### Global"
   ]
  },
  {
   "cell_type": "code",
   "execution_count": 74,
   "metadata": {},
   "outputs": [],
   "source": [
    "v3, f3 = igl.read_triangle_mesh(\"bunny_v2/bun090_v2.ply\")\n",
    "v4, f4 = igl.read_triangle_mesh(\"bunny_v2/bun180_v2.ply\")\n",
    "v5, f5 = igl.read_triangle_mesh(\"bunny_v2/bun270_v2.ply\")\n",
    "v6, f6 = igl.read_triangle_mesh(\"bunny_v2/bun315_v2.ply\")\n",
    "curv3 = curvature(v3)\n",
    "curv4 = curvature(v4)\n",
    "curv5 = curvature(v5)\n",
    "curv6 = curvature(v6)"
   ]
  },
  {
   "cell_type": "code",
   "execution_count": 91,
   "metadata": {},
   "outputs": [
    {
     "data": {
      "text/plain": [
       "True"
      ]
     },
     "execution_count": 91,
     "metadata": {},
     "output_type": "execute_result"
    }
   ],
   "source": [
    "v3, f3 = igl.read_triangle_mesh(\"bunny_v2/bun090_v2.ply\")\n",
    "v4, f4 = igl.read_triangle_mesh(\"bunny_v2/bun180_v2.ply\")\n",
    "v5, f5 = igl.read_triangle_mesh(\"bunny_v2/bun270_v2.ply\")\n",
    "v6, f6 = igl.read_triangle_mesh(\"bunny_v2/bun315_v2.ply\")\n",
    "# manually align\n",
    "def change_orientation(v1, x, y, z):\n",
    "    '''\n",
    "    Manually align meshes\n",
    "    '''\n",
    "    x = x/180*np.pi\n",
    "    y = y/180*np.pi\n",
    "    z = z/180*np.pi\n",
    "    \n",
    "    Rx = np.array([[1, 0, 0],\n",
    "                  [0, np.cos(x), -np.sin(x)],\n",
    "                  [0, np.sin(x), np.cos(x)]])\n",
    "    \n",
    "    Ry = np.array([[np.cos(y), 0, np.sin(y)],\n",
    "                  [0, 1, 0],\n",
    "                  [-np.sin(y), 0, np.cos(y)]])\n",
    "    \n",
    "    Rz = np.array([[np.cos(z), -np.sin(z), 0.],\n",
    "                  [np.sin(z),  np.cos(z), 0.],\n",
    "                  [           0.,             0., 1.]])\n",
    "    v1_rot = (Rz@Ry@Rx@v1.T).T\n",
    "    return v1_rot\n",
    "\n",
    "v3 = change_orientation(v3, 5,90,0)\n",
    "igl.write_triangle_mesh(\"./generated_meshes/new_bun_090.ply\", v3, f3)\n",
    "v4 = change_orientation(v4, 0, 180, -2)\n",
    "igl.write_triangle_mesh(\"./generated_meshes/new_bun_180.ply\", v4, f4)\n",
    "v5 = change_orientation(v5, 0, -90, 0)\n",
    "igl.write_triangle_mesh(\"./generated_meshes/new_bun_270.ply\", v5, f5)\n",
    "v6 = change_orientation(v6, 0, -45, 0)\n",
    "igl.write_triangle_mesh(\"./generated_meshes/new_bun_315.ply\", v6, f6)"
   ]
  },
  {
   "cell_type": "code",
   "execution_count": 93,
   "metadata": {},
   "outputs": [
    {
     "name": "stdout",
     "output_type": "stream",
     "text": [
      "1\n",
      "2\n",
      "3\n",
      "4\n",
      "5\n"
     ]
    }
   ],
   "source": [
    "# using brute force method 2 in ppt\n",
    "\n",
    "vertex_list = [v5, v6, v1, v2]\n",
    "curv_list = [curv5, curv6, curv1, curv2, curv4, curv3]\n",
    "face_list = [f5, f6, f1, f2, f4, f3]\n",
    "ratio = 0.5\n",
    "# roughly align\n",
    "for i in range(1, len(vertex_list)):\n",
    "    # fit the mesh to the previous one\n",
    "    print(i)\n",
    "    current_vert = vertex_list[i-1]\n",
    "    new_vertices, _ = icp(vertex_list[i], current_vert, curv_list[i], curv_list[i-1], sample=ratio, use_dist=True)\n",
    "    vertex_list[i] = new_vertices\n",
    "\n",
    "# write the meshs\n",
    "for i in range(len(vertex_list)):\n",
    "    vertices = vertex_list[i]\n",
    "    igl.write_triangle_mesh(\"./generated_meshes/rough_bunny\"+str(i+1)+\".ply\", vertices, face_list[i])\n",
    "\n",
    "\n",
    "current_vert = np.vstack((vertex_list[0], vertex_list[1], vertex_list[2], vertex_list[3]))\n",
    "vertex_list.append(v4)\n",
    "vertex_list.append(v3)\n",
    "length_list = [x.shape[0] for x in vertex_list]\n",
    "extract_index = np.zeros(len(length_list)+1)\n",
    "extract_index[1:] = np.cumsum(length_list)\n",
    "# global alignment\n",
    "for i in range(4, len(vertex_list)):\n",
    "    # treat the previous scans as one single mesh\n",
    "    # fit the big mesh to the new one\n",
    "    print(i)\n",
    "    curv_curr = curvature(current_vert)\n",
    "    # transform to sampled vert, get the big mesh vertices(can be extracted after)\n",
    "    new_vertices, _ = icp(current_vert, vertex_list[i], curv_curr, curv_list[i], sample=0.9, use_dist=True)\n",
    "    # add new mesh to big mesh\n",
    "    current_vert = np.vstack((new_vertices, vertex_list[i]))\n",
    "\n",
    "# write the meshs\n",
    "for i in range(len(vertex_list)):\n",
    "    start = int(extract_index[i])\n",
    "    end = int(extract_index[i+1])\n",
    "    vertices = current_vert[start:end, :]\n",
    "    igl.write_triangle_mesh(\"./generated_meshes/bunny\"+str(i)+\".ply\", vertices, face_list[i])\n"
   ]
  },
  {
   "cell_type": "markdown",
   "metadata": {},
   "source": [
    "### point to plane"
   ]
  },
  {
   "cell_type": "code",
   "execution_count": 54,
   "metadata": {},
   "outputs": [
    {
     "data": {
      "text/plain": [
       "True"
      ]
     },
     "execution_count": 54,
     "metadata": {},
     "output_type": "execute_result"
    }
   ],
   "source": [
    "import open3d\n",
    "\n",
    "# only to color the normals\n",
    "ply1 = open3d.io.read_triangle_mesh(\"bunny_v2/bun000_v2.ply\")\n",
    "ply1 = ply1.compute_vertex_normals()\n",
    "ns = np.asarray(ply1.vertex_normals)\n",
    "ns = (ns + 1) / 2.\n",
    "ply1.vertex_colors = open3d.utility.Vector3dVector(ns)\n",
    "open3d.io.write_triangle_mesh(\"./generated_meshes/bun000_v2_normal.ply\", ply1)"
   ]
  },
  {
   "cell_type": "code",
   "execution_count": 104,
   "metadata": {},
   "outputs": [
    {
     "name": "stdout",
     "output_type": "stream",
     "text": [
      "(40097, 3)\n"
     ]
    }
   ],
   "source": [
    "'''\n",
    "TODO: icp reject with normal\n",
    "TODO: icp colors show\n",
    "TODO: clean up icp code\n",
    "'''"
   ]
  },
  {
   "cell_type": "code",
   "execution_count": null,
   "metadata": {},
   "outputs": [],
   "source": []
  }
 ],
 "metadata": {
  "kernelspec": {
   "display_name": "geo_tutorials",
   "language": "python",
   "name": "python3"
  },
  "language_info": {
   "codemirror_mode": {
    "name": "ipython",
    "version": 3
   },
   "file_extension": ".py",
   "mimetype": "text/x-python",
   "name": "python",
   "nbconvert_exporter": "python",
   "pygments_lexer": "ipython3",
   "version": "3.9.18"
  }
 },
 "nbformat": 4,
 "nbformat_minor": 2
}
